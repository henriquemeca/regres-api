{
 "cells": [
  {
   "cell_type": "code",
   "execution_count": 165,
   "metadata": {},
   "outputs": [],
   "source": [
    "import requests\n",
    "import pandas as pd\n",
    "\n",
    "url = 'https://reqres.in/api/'\n",
    "endpoint = 'users'\n",
    "\n",
    "class reqresApi:\n",
    "    def __init__(self,url,endpoint):\n",
    "        self.url = url\n",
    "        self.endpoint = endpoint\n",
    "\n",
    "    def getJson(self,page=None,records=None):\n",
    "        adress = f'{self.url}{self.endpoint}?page={page}&per_page={records}'\n",
    "        r = requests.get(adress)\n",
    "        return r.json()\n",
    "\n",
    "    def getAllPages(self,records=None):\n",
    "        r = self.getJson(records=records)\n",
    "        data = r['data']\n",
    "        totalPages = r['total_pages']\n",
    "        print('Total pages to get',totalPages)\n",
    "        for page in range(2,totalPages+1):\n",
    "            print('Getting page:',page)\n",
    "            data+=self.getJson(page,records)['data']\n",
    "        print('Finished')\n",
    "        return data\n",
    "\n",
    "    def saveDataCsv(self,data=None,fileName='users.csv'):\n",
    "        if data is not None:\n",
    "            pd.DataFrame.from_records(data).to_csv(fileName)\n",
    "            print('File ',fileName,' created')\n",
    "        else:\n",
    "            print('Data is none, no file was created')\n",
    "            pass\n",
    "    \n",
    "    def getUserById(self,id=-1):\n",
    "        adress = f'{self.url}{self.endpoint}?id={id}'\n",
    "        r = requests.get(adress)\n",
    "        return r.json()"
   ]
  },
  {
   "cell_type": "code",
   "execution_count": 177,
   "metadata": {},
   "outputs": [
    {
     "name": "stdout",
     "output_type": "stream",
     "text": [
      "George Bluth\n"
     ]
    }
   ],
   "source": [
    "x = reqresApi(url,endpoint)\n",
    "r = x.getUserById(1)\n",
    "\n",
    "print(name)\n"
   ]
  },
  {
   "cell_type": "code",
   "execution_count": 178,
   "metadata": {},
   "outputs": [
    {
     "name": "stdout",
     "output_type": "stream",
     "text": [
      "1\n",
      "2\n"
     ]
    }
   ],
   "source": [
    "# you can write to stdout for debugging purposes, e.g.\n",
    "# print(\"this is a debug message\")\n",
    "A = [1, 3, 6, 4, 1, 2]\n",
    "\n",
    "def solution(A):\n",
    "    smallest = 1\n",
    "    past = []\n",
    "    for a,i in enumerate(A):\n",
    "        past[i] = \n",
    "        if a == smallest:\n",
    "            smallest+=1\n",
    "    return smallest"
   ]
  },
  {
   "cell_type": "markdown",
   "metadata": {},
   "source": []
  },
  {
   "cell_type": "code",
   "execution_count": 12,
   "metadata": {},
   "outputs": [
    {
     "name": "stdout",
     "output_type": "stream",
     "text": [
      "[40, 40, 40]\n"
     ]
    }
   ],
   "source": [
    "def f1():\n",
    "    return [lambda x: x * i**2 for i in range(3)]\n",
    "print ([f(10) for f in f1()])"
   ]
  },
  {
   "cell_type": "code",
   "execution_count": 17,
   "metadata": {},
   "outputs": [
    {
     "name": "stdout",
     "output_type": "stream",
     "text": [
      "True\n"
     ]
    }
   ],
   "source": [
    "def findAnag(s1,s2):\n",
    "\n",
    "    alist1 = list(s1)\n",
    "\n",
    "    alist2 = list(s2)\n",
    "\n",
    "    alist1.sort()\n",
    "\n",
    "    alist2.sort()\n",
    "\n",
    "    pos = 0\n",
    "\n",
    "    matches = True\n",
    "\n",
    "    while pos < len(s1) and matches:\n",
    "\n",
    "        if alist1[pos]==alist2[pos]:\n",
    "\n",
    "            pos = pos + 1\n",
    "\n",
    "        else:\n",
    "\n",
    "            matches = False\n",
    "\n",
    "    return matches\n",
    "\n",
    "\n",
    "print(findAnag('iamlordvoldemort','tommarvoloriddle'))"
   ]
  }
 ],
 "metadata": {
  "interpreter": {
   "hash": "c31ee28a2e8a8c14288e32f43cdc31d04eb5922835efbdee25a698b666fb5ffc"
  },
  "kernelspec": {
   "display_name": "Python 3.10.4 64-bit",
   "language": "python",
   "name": "python3"
  },
  "language_info": {
   "codemirror_mode": {
    "name": "ipython",
    "version": 3
   },
   "file_extension": ".py",
   "mimetype": "text/x-python",
   "name": "python",
   "nbconvert_exporter": "python",
   "pygments_lexer": "ipython3",
   "version": "3.10.4"
  },
  "orig_nbformat": 4
 },
 "nbformat": 4,
 "nbformat_minor": 2
}
